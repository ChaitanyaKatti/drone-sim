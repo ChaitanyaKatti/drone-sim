{
 "cells": [
  {
   "cell_type": "code",
   "execution_count": null,
   "metadata": {},
   "outputs": [],
   "source": [
    "import matplotlib.pyplot as plt\n",
    "import torch\n",
    "import numpy as np\n",
    "from tqdm.notebook import tqdm\n",
    "\n",
    "device = 'cpu' #torch.device('cuda' if torch.cuda.is_available() else 'cpu')\n",
    "print(device)"
   ]
  },
  {
   "cell_type": "code",
   "execution_count": null,
   "metadata": {},
   "outputs": [],
   "source": [
    "# 2-d drone\n",
    "# Thursts T1 and T2\n",
    "# Torque\n",
    "# Optimize through backpropagation and find the miminum time taken to achieve full throttle forward flight starting from hover\n",
    "\n",
    "# Constants\n",
    "g = 9.8\n",
    "m = 0.895\n",
    "l = 0.110\n",
    "I = m * l**2 / 12 # Moment of inertia of rod about center\n",
    "\n",
    "T_max = m * g\n",
    "T_min = 0.1 * m * g\n",
    "T1_0 = 0.5 * m * g # Initial value for T1\n",
    "T2_0 = 0.5 * m * g # Initial values for T2\n",
    "\n",
    "# (T1 + T2)*cot(Theta) = m * g\n",
    "Theta_0 = 0 # Initial value for Theta\n",
    "Theta_max = np.arccos( m * g / (2 * T_max) ) # Upper bound for Theta"
   ]
  },
  {
   "cell_type": "code",
   "execution_count": null,
   "metadata": {},
   "outputs": [],
   "source": [
    "# Time discretization\n",
    "N = 150\n",
    "dt = 0.001\n",
    "t = np.arange(0, N * dt, dt)\n",
    "\n",
    "# Uniform iniliazation\n",
    "T1 = torch.ones(N, device=device) * T1_0\n",
    "T2 = torch.ones(N, device=device) * T2_0\n",
    "\n",
    "# # Random initialization\n",
    "# T1 = torch.rand(N) * (T_max - T_min) + T_min\n",
    "# T2 = torch.rand(N) * (T_max - T_min) + T_min\n",
    "# T1[[0,1]] = T1_0\n",
    "# T2[[0,1]] = T2_0\n",
    "\n",
    "T1.requires_grad = True\n",
    "T2.requires_grad = True"
   ]
  },
  {
   "cell_type": "markdown",
   "metadata": {},
   "source": [
    "# Functions"
   ]
  },
  {
   "cell_type": "code",
   "execution_count": null,
   "metadata": {},
   "outputs": [],
   "source": [
    "# Function to constrain the 0th element to be constant during backpropagation\n",
    "# Beacuse we don't want to change the initial values of T1 and T2\n",
    "def zero_grad_hook(grad, ind=[0]):\n",
    "    grad[ind] = torch.zeros_like(grad[ind])  # Set the gradient of the ith element to zero\n",
    "    return grad"
   ]
  },
  {
   "cell_type": "code",
   "execution_count": null,
   "metadata": {},
   "outputs": [],
   "source": [
    "def forward(T1, T2):\n",
    "    # Give time varying thrust, calculates the time varying angular acceleration\n",
    "    # T1, T2: thrusts\n",
    "    # Theta: angle\n",
    "\n",
    "    # Diferential equaiton\n",
    "    # I * Theta'' = (T1 - T2) * l\n",
    "    # Theta'  = Omega\n",
    "    # Theta'' = Omega' = alpha = (T1 - T2) * l / I\n",
    "    \n",
    "    # Finite difference method\n",
    "    # alpha[i] = (Theta[i+2] - 2 * Theta[i+1] + Theta[i]) / dt^2\n",
    "    # Theta[i+2] = 2 * Theta[i+1] - Theta[i] + alpha[i] * dt^2\n",
    "    \n",
    "    # Create a new tensor to store the updated values of Theta\n",
    "    Theta = torch.zeros_like(T1)\n",
    "    Theta[[0,1]] = Theta_0\n",
    "\n",
    "    # Create a new tensor to store the angular velocity\n",
    "    omega = torch.zeros(N)\n",
    "    # Create a new tensor to store the angular acceleration\n",
    "    alpha = (torch.clamp(T1, T_min, T_max) - torch.clamp(T2, T_min, T_max)) * l / I\n",
    "    # alpha = (T1 - T2) * l / I\n",
    "    \n",
    "    # Calculate the angular velocity and the new angle\n",
    "    # sum = 0\n",
    "    for i in range(N-1):\n",
    "        # sum = sum + alpha[i] * dt\n",
    "        # omega[i+1] = sum\n",
    "        omega[i+1] = omega[i] + alpha[i] * dt\n",
    "        Theta[i + 1] = Theta[i] + omega[i] * dt + 0.5 * alpha[i] * dt**2\n",
    "    \n",
    "    return Theta"
   ]
  },
  {
   "cell_type": "code",
   "execution_count": null,
   "metadata": {},
   "outputs": [],
   "source": [
    "def loss(T1, T2, Theta):\n",
    "    # Loss function\n",
    "    # Minimize the time taken to achieve full throttle forward flight, i.e Theta[tau]] = Theta_max, minimize tau\n",
    "    \n",
    "    # Objective: minimize the first time when Theta[N-1] = Theta_max\n",
    "\n",
    "    # Constraint 1: (T1 + T2)cot(Theta) = m * g\n",
    "    # Constraint 2: Theta[0] = 0\n",
    "    # Constraint 3: Theta[N-1] = Theta_max\n",
    "    # Constraint 4: T_min <= T1 <= T_max, T_min <= T2 <= T_max\n",
    "    \n",
    "    loss = 0\n",
    "    # Constant vertical thrust constraint\n",
    "    loss += 10*torch.sum(torch.square((T1 + T2) * torch.cos(Theta) - m * g))\n",
    "    # Find the index at which Theta[N-1] ~= Theta_max and backpropagate the loss from that index\n",
    "    # min_ind = torch.argmin(torch.abs(Theta - Theta_max))\n",
    "    # # Add Theta loss for all values of indices greater than ind\n",
    "    # loss += torch.sum(torch.square(Theta[min_ind:] - Theta_max))\n",
    "    # loss += torch.sum(torch.square(T1[min_ind:] - T_max))\n",
    "    # loss += torch.sum(torch.square(T2[min_ind:] - T_max))\n",
    "    # We still need to promote the drone to full throttle forward flight\n",
    "    loss += 5*torch.sum(torch.square(Theta - Theta_max))\n",
    "    loss += torch.sum(torch.square(T1[[-1]] - T_max))\n",
    "    loss += torch.sum(torch.square(T2[[-1]] - T_max))\n",
    "    \n",
    "    # Loss to constrain thrust to be within the limits\n",
    "    loss += 100*torch.sum(torch.square(T1 - T_max) * (T1 > T_max) + torch.square(T1 - T_min) * (T1 < T_min))\n",
    "    loss += 100*torch.sum(torch.square(T2 - T_max) * (T2 > T_max) + torch.square(T2 - T_min) * (T2 < T_min))\n",
    "    \n",
    "    # Add loss to constrain change in thurst\n",
    "    loss += torch.sum(torch.square(T1[1:] - T1[:-1]))\n",
    "    loss += torch.sum(torch.square(T2[1:] - T2[:-1]))\n",
    "    \n",
    "    return loss"
   ]
  },
  {
   "cell_type": "code",
   "execution_count": null,
   "metadata": {},
   "outputs": [],
   "source": [
    "def train(T1, T2, epochs=1000, lr=0.01):\n",
    "\n",
    "    T1.register_hook(zero_grad_hook)\n",
    "    T2.register_hook(zero_grad_hook)\n",
    "    \n",
    "    optimizer = torch.optim.Adam([T1, T2], lr=lr)\n",
    "    \n",
    "    for epoch in tqdm(range(epochs)):\n",
    "        optimizer.zero_grad()\n",
    "        Theta = forward(T1, T2)\n",
    "        train_loss = loss(T1, T2, Theta)\n",
    "        train_loss.backward(retain_graph=True)\n",
    "        optimizer.step()\n",
    "        if epoch % 100 == 0:\n",
    "            print(f\"Epoch: {epoch}, Loss: {train_loss.item() / N}\")\n",
    "\n",
    "    return T1, T2, Theta"
   ]
  },
  {
   "cell_type": "code",
   "execution_count": null,
   "metadata": {},
   "outputs": [],
   "source": [
    "def plot(T1, T2, Theta):\n",
    "    \n",
    "    # Plot dual axis, degrees and thrust\n",
    "    fig, (ax1, ax2) = plt.subplots(nrows=2, figsize=(7, 10))\n",
    "    ax1.plot(t, T1.detach().numpy(), 'b-', alpha=0.7, label='T1')\n",
    "    ax1.plot(t, T2.detach().numpy(), 'r-', alpha=0.7, label='T2')\n",
    "    ax1.set_ylabel('Thrust (in N)', color='r')\n",
    "    ax1.set_ylim([T_min-0.1, T_max+0.1])\n",
    "    ax1.legend(['T1', 'T2'], loc='upper left')\n",
    "\n",
    "    ax1_twin = ax1.twinx()\n",
    "    ax1_twin.plot(t, Theta.detach().numpy() * 180 / np.pi, 'g-', label='Theta')\n",
    "    ax1_twin.set_xlabel('Time')\n",
    "    ax1_twin.set_ylabel('Theta (in $^\\circ$)', color='g')\n",
    "    ax1_twin.set_ylim([0, Theta_max * 180 / np.pi])\n",
    "    ax1_twin.legend(['Theta'], loc='lower right')\n",
    "    \n",
    "\n",
    "    # Plot 0.5/torch.cos(Theta) on the right axis\n",
    "    lns1 = ax2.plot([0, t[-1]], 2*[m*g], 'g--', alpha=0.7, label='Expected $T_{y}$')\n",
    "    lns2 = ax2.plot(t, ((T1 + T2)*torch.cos(Theta)).detach().numpy(), 'r-', alpha=0.7, label='Actual $T_{y}$')\n",
    "    ax2.set_xlabel('Time')\n",
    "    ax2.set_ylabel('Thrust (in N)', color='r')\n",
    "    \n",
    "    # Calculate the vertical deviation from the expected value\n",
    "    a_y = (T1 + T2) * torch.cos(Theta) / m - g\n",
    "    v_y = torch.cumsum(a_y * dt, 0)\n",
    "    y = torch.cumsum(v_y * dt, 0)\n",
    "    # Plot the vertical deviation\n",
    "    ax2_twin = ax2.twinx()\n",
    "    lns3 = ax2_twin.plot(t, y.detach().numpy(), 'b-', label='Vertical deviation')\n",
    "    ax2_twin.set_ylabel('Vertical deviation (in m)', color='b')\n",
    "    \n",
    "    lns = lns1 + lns2 + lns3\n",
    "    labs = [l.get_label() for l in lns]\n",
    "    ax2.legend(lns, labs)\n",
    "\n",
    "    plt.close()\n",
    "        \n",
    "    return fig"
   ]
  },
  {
   "cell_type": "markdown",
   "metadata": {},
   "source": [
    "# Train"
   ]
  },
  {
   "cell_type": "code",
   "execution_count": null,
   "metadata": {},
   "outputs": [],
   "source": [
    "T1, T2, Theta = train(T1, T2, epochs=2000, lr=0.002)"
   ]
  },
  {
   "cell_type": "markdown",
   "metadata": {},
   "source": [
    "# Plots"
   ]
  },
  {
   "cell_type": "code",
   "execution_count": null,
   "metadata": {},
   "outputs": [],
   "source": [
    "fig = plot(T1, T2, Theta)\n",
    "fig"
   ]
  },
  {
   "cell_type": "code",
   "execution_count": null,
   "metadata": {},
   "outputs": [],
   "source": [
    "a_x = (T1 + T2) * torch.sin(Theta) / m\n",
    "a_y = (T1 + T2) * torch.cos(Theta) / m - g\n",
    "\n",
    "v_x = torch.cumsum(a_x * dt, 0)\n",
    "v_y = torch.cumsum(a_y * dt, 0)\n",
    "\n",
    "p_x = torch.cumsum(v_x * dt, 0).detach().numpy()\n",
    "p_y = torch.cumsum(v_y * dt, 0).detach().numpy()\n",
    "\n",
    "theta = Theta.detach().numpy()"
   ]
  },
  {
   "cell_type": "code",
   "execution_count": null,
   "metadata": {},
   "outputs": [],
   "source": [
    "# save px, py, theta as numpy arrays\n",
    "np.save('data/time.npy', t)\n",
    "np.save('data/px.npy', p_x)\n",
    "np.save('data/py.npy', p_y)\n",
    "np.save('data/theta.npy', theta)\n",
    "\n",
    "p_x.max(), p_y.max(), theta.max() * 180 / np.pi"
   ]
  },
  {
   "cell_type": "markdown",
   "metadata": {},
   "source": [
    "# Errors"
   ]
  },
  {
   "cell_type": "code",
   "execution_count": null,
   "metadata": {},
   "outputs": [],
   "source": [
    "# Final values\n",
    "print(\"Final Values:\")\n",
    "print(\"Theta Final\", Theta[-1].item(), Theta_max)\n",
    "print(\"T1 Final\", T1[-1].item() - T_max)\n",
    "print(\"T2 Final\", T2[-1].item() - T_max)\n",
    "\n",
    "print(\"\\nLOSSES:\")\n",
    "print(\"Theta - Theta_Max:\", torch.sum(torch.square(Theta - Theta_max)).item())\n",
    "print(\"Vertical Force Constraint:\", torch.sum(torch.square((T1 + T2) * torch.cos(Theta) - m * g)).item())\n",
    "print(\"T1 final:\", torch.sum(torch.square(T1[[-1]] - T_max)).item())\n",
    "print(\"T2 final:\", torch.sum(torch.square(T2[[-1]] - T_max)).item())\n",
    "print(\"T1 Limit\", 100*torch.sum(torch.square(T1 - T_max) * (T1 > T_max) + torch.square(T1 - T_min) * (T1 < T_min)).item())\n",
    "print(\"T2 Limit\", 100*torch.sum(torch.square(T2 - T_max) * (T2 > T_max) + torch.square(T2 - T_min) * (T2 < T_min)).item())"
   ]
  }
 ],
 "metadata": {
  "kernelspec": {
   "display_name": ".venv",
   "language": "python",
   "name": "python3"
  },
  "language_info": {
   "codemirror_mode": {
    "name": "ipython",
    "version": 3
   },
   "file_extension": ".py",
   "mimetype": "text/x-python",
   "name": "python",
   "nbconvert_exporter": "python",
   "pygments_lexer": "ipython3",
   "version": "3.10.9"
  }
 },
 "nbformat": 4,
 "nbformat_minor": 2
}
